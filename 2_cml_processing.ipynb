{
 "cells": [
  {
   "cell_type": "markdown",
   "id": "9e8629e9-a534-43b1-b0a2-6d6f0a6df943",
   "metadata": {},
   "source": [
    "# 2. CML processing \n",
    "In this notebook cml are processed according to the following steps:\n",
    "* calculate total loss\n",
    "* simple quality control\n",
    "* Wet&Dry Classification\n",
    "* baseline computation \n",
    "* rain-induced attenuation\n",
    "* rain rate estimate"
   ]
  },
  {
   "cell_type": "code",
   "execution_count": 1,
   "id": "2f5aeefc-6065-4428-bdf6-446743f3f610",
   "metadata": {},
   "outputs": [],
   "source": [
    "import sys\n",
    "import os\n",
    "\n",
    "# # Add the poligrain and mergeplg src directories to Python's path\n",
    "sys.path.insert(0, os.path.abspath(\"./poligrain/src\"))\n",
    "sys.path.insert(0, os.path.abspath(\"./pycomlink\"))\n"
   ]
  },
  {
   "cell_type": "code",
   "execution_count": 2,
   "id": "f583a92c-71da-43c8-8238-34d9ebe4ff31",
   "metadata": {},
   "outputs": [
    {
     "name": "stderr",
     "output_type": "stream",
     "text": [
      "/home/erlend/Documents/GitHub/OpenMRG2/pycomlink/pycomlink/io/examples.py:1: UserWarning: pkg_resources is deprecated as an API. See https://setuptools.pypa.io/en/latest/pkg_resources.html. The pkg_resources package is slated for removal as early as 2025-11-30. Refrain from using this package or pin to Setuptools<81.\n",
      "  import pkg_resources\n"
     ]
    }
   ],
   "source": [
    "import xarray as xr\n",
    "import matplotlib.pyplot as plt\n",
    "import numpy as np\n",
    "import pycomlink as pycml\n",
    "import poligrain as plg\n"
   ]
  },
  {
   "cell_type": "code",
   "execution_count": 3,
   "id": "5987e619",
   "metadata": {},
   "outputs": [],
   "source": [
    "# Load CML and radar data\n",
    "ds_cmls = xr.open_dataset('data/andersson_2022_OpenMRG/openMRG_cml.nc')\n",
    "ds_rad = xr.open_dataset('data/andersson_2022_OpenMRG/radar/openmrg_rad.nc') "
   ]
  },
  {
   "cell_type": "code",
   "execution_count": 4,
   "id": "b6075cb5-8908-4ded-90cf-17ddf2d264be",
   "metadata": {},
   "outputs": [],
   "source": [
    "# Select sublink 0\n",
    "ds_cmls = ds_cmls.isel(sublink_id = 0)"
   ]
  },
  {
   "cell_type": "code",
   "execution_count": 5,
   "id": "03e6b7ac-172a-404f-892a-e91c97a1381f",
   "metadata": {},
   "outputs": [],
   "source": [
    "# calculate total loss\n",
    "ds_cmls[\"tl\"] = ds_cmls.tsl - ds_cmls.rsl\n",
    "\n",
    "# Interpolate na\n",
    "ds_cmls['tl'] = ds_cmls.tl.interpolate_na(dim='time', method='linear', max_gap='5min')\n",
    "\n",
    "# flag cmls with strong diurnal fluctuations\n",
    "qc_diurnalcicle = (ds_cmls.tl.rolling(time=60 * 5, center=True).std() > 2).mean(dim=\"time\") > 0.1\n",
    "\n",
    "# flag cmls with very noisy periods\n",
    "qc_noisyperiods = (ds_cmls.tl.rolling(time=60, center=True).std() > 0.8).mean(dim=\"time\") > 0.20\n",
    "\n",
    "ds_cmls.where(qc_diurnalcicle, drop=True);\n",
    "ds_cmls.where(qc_noisyperiods, drop=True);"
   ]
  },
  {
   "cell_type": "code",
   "execution_count": 7,
   "id": "f0d93e38-115d-477c-9f35-8bc3570620cd",
   "metadata": {},
   "outputs": [],
   "source": [
    "da_intersect_weights = plg.spatial.calc_sparse_intersect_weights_for_several_cmls(\n",
    "    x1_line=ds_cmls.site_0_lon.values,\n",
    "    y1_line=ds_cmls.site_0_lat.values,\n",
    "    x2_line=ds_cmls.site_1_lon.values,\n",
    "    y2_line=ds_cmls.site_1_lat.values,\n",
    "    cml_id=ds_cmls.cml_id.values,\n",
    "    x_grid=ds_rad.lon.values,\n",
    "    y_grid=ds_rad.lat.values,\n",
    "    grid_point_location='center',\n",
    ")\n",
    "\n",
    "da_radar_along_cmls = plg.spatial.get_grid_time_series_at_intersections(\n",
    "    grid_data=ds_rad.rainfall_amount,\n",
    "    intersect_weights=da_intersect_weights,\n",
    ").resample(time = '1min').bfill()*4 # to mm/h\n",
    "\n",
    "# Set wet periods above threshold\n",
    "ds_cmls['wet_radar']  = (da_radar_along_cmls > 0.01).rolling(time=5, center=True).max() # the radar is a bit low"
   ]
  },
  {
   "cell_type": "code",
   "execution_count": 8,
   "id": "7bdade66-6cba-4ff3-b9a6-2a0a180826b1",
   "metadata": {},
   "outputs": [
    {
     "name": "stderr",
     "output_type": "stream",
     "text": [
      "/home/erlend/miniforge3/envs/openmrg/lib/python3.12/site-packages/numpy/lib/_nanfunctions_impl.py:1620: RuntimeWarning: All-NaN slice encountered\n",
      "  return fnb._ureduce(a,\n"
     ]
    }
   ],
   "source": [
    "roll_std_dev = ds_cmls.tl.rolling(time=60, center=True).std()\n",
    "threshold = 1.12 * roll_std_dev.quantile(0.8, dim=\"time\")\n",
    "ds_cmls[\"wet_cml\"] = (roll_std_dev > threshold)"
   ]
  },
  {
   "cell_type": "code",
   "execution_count": 9,
   "id": "75a9dfa8-4e11-453a-92f7-a3554b84244c",
   "metadata": {},
   "outputs": [],
   "source": [
    "# Estimate baseline\n",
    "ds_cmls[\"baseline\"] = pycml.processing.baseline.baseline_constant(\n",
    "    trsl=ds_cmls.tl,\n",
    "    wet=ds_cmls.wet_cml.astype(bool)| ds_cmls.wet_radar.astype(bool), # wet period if radar or CML is wet\n",
    "    n_average_last_dry=5,\n",
    ")\n",
    "\n",
    "ds_cmls[\"A_obs\"] = ds_cmls.tl - ds_cmls.baseline\n",
    "ds_cmls[\"A_obs\"] = ds_cmls.A_obs.where(ds_cmls.A_obs >= 0, 0)\n",
    "\n",
    "# Pastorek using parameters that looks good for the German,\n",
    "# Swedish and Norwegian dataset\n",
    "ds_cmls[\"waa\"] = pycml.processing.wet_antenna.waa_pastorek_2021_from_A_obs(\n",
    "    A_obs=ds_cmls.A_obs,\n",
    "    f_Hz=ds_cmls.frequency * 1e6,\n",
    "    pol=ds_cmls.polarization.data,\n",
    "    L_km=ds_cmls.length / 1000,\n",
    "    A_max=6,\n",
    "    zeta=0.7,  # 0.55 is default\n",
    "    d=0.15,\n",
    ")\n",
    "\n",
    "# calculate attenuation caused by rain and remove negative attenuation\n",
    "ds_cmls[\"A\"] = ds_cmls.tl - ds_cmls.baseline - ds_cmls.waa\n",
    "ds_cmls[\"A\"].data[ds_cmls.A < 0] = 0\n",
    "\n",
    "# derive rain rate via the k-R relation\n",
    "ds_cmls[\"R\"] = pycml.processing.k_R_relation.calc_R_from_A(\n",
    "    A=ds_cmls.A,\n",
    "    L_km=ds_cmls.length.astype(float) / 1000,  # convert to km\n",
    "    f_GHz=ds_cmls.frequency / 1000,  # convert to GHz\n",
    "    pol=ds_cmls.polarization,\n",
    ")"
   ]
  },
  {
   "cell_type": "code",
   "execution_count": 10,
   "id": "3474b820-8570-4b3d-8f3b-ecdabef5cc68",
   "metadata": {},
   "outputs": [],
   "source": [
    "ds_cml_res = (\n",
    "    ds_cmls[[\"R\"]]\n",
    "    .resample(time=\"15min\", label='right', closed='right')\n",
    "    .sum(skipna=True)\n",
    "    / 60\n",
    ")"
   ]
  },
  {
   "cell_type": "code",
   "execution_count": 11,
   "id": "058f0d35-f2c8-4e89-b32b-dab97878b3e6",
   "metadata": {},
   "outputs": [
    {
     "data": {
      "text/plain": [
       "(array([0.00026499, 0.0018549 , 0.00105994, 0.00211988, 0.00211988,\n",
       "        0.00635965, 0.00635965, 0.00768458, 0.00768458, 0.00635965,\n",
       "        0.00556469, 0.00688962, 0.00662463, 0.00503472, 0.00397478,\n",
       "        0.00423977, 0.00238487, 0.0018549 , 0.0018549 , 0.00211988,\n",
       "        0.00264985, 0.00132493, 0.00026499, 0.00079496, 0.00026499,\n",
       "        0.00158991, 0.00105994, 0.00026499, 0.        ]),\n",
       " array([180.        , 191.03448276, 202.06896552, 213.10344828,\n",
       "        224.13793103, 235.17241379, 246.20689655, 257.24137931,\n",
       "        268.27586207, 279.31034483, 290.34482759, 301.37931034,\n",
       "        312.4137931 , 323.44827586, 334.48275862, 345.51724138,\n",
       "        356.55172414, 367.5862069 , 378.62068966, 389.65517241,\n",
       "        400.68965517, 411.72413793, 422.75862069, 433.79310345,\n",
       "        444.82758621, 455.86206897, 466.89655172, 477.93103448,\n",
       "        488.96551724, 500.        ]),\n",
       " <BarContainer object of 29 artists>)"
      ]
     },
     "execution_count": 11,
     "metadata": {},
     "output_type": "execute_result"
    },
    {
     "data": {
      "image/png": "[encoded data removed]",
      "text/plain": [
       "<Figure size 640x480 with 1 Axes>"
      ]
     },
     "metadata": {},
     "output_type": "display_data"
    }
   ],
   "source": [
    "(ds_cml_res.R.sum(dim='time')).plot.hist(bins=np.linspace(180,500,30), density=True)\n"
   ]
  },
  {
   "cell_type": "code",
   "execution_count": 12,
   "id": "a9698890",
   "metadata": {},
   "outputs": [],
   "source": [
    "# saving output\n",
    "ds_cml_res.to_netcdf('data/processed_cml_OpenMRG.nc')"
   ]
  }
 ],
 "metadata": {
  "kernelspec": {
   "display_name": "Python 3 (ipykernel)",
   "language": "python",
   "name": "python3"
  },
  "language_info": {
   "codemirror_mode": {
    "name": "ipython",
    "version": 3
   },
   "file_extension": ".py",
   "mimetype": "text/x-python",
   "name": "python",
   "nbconvert_exporter": "python",
   "pygments_lexer": "ipython3",
   "version": "3.12.11"
  }
 },
 "nbformat": 4,
 "nbformat_minor": 5
}
