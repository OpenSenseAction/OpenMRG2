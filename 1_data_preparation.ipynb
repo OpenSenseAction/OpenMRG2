{
 "cells": [
  {
   "cell_type": "markdown",
   "id": "9e8629e9-a534-43b1-b0a2-6d6f0a6df943",
   "metadata": {},
   "source": [
    "# 1. Data preparation\n",
    "This notebook \n",
    "* downloads the used CML dataset [OpenMRG (Andersson et al. 2022)]()\n",
    "* transform the into a common data format  \n",
    "* shows some statisitcs and comparisons of the CML and reference data\n",
    "\n",
    "As result, the cml datasets are ready for processing and the reference data from gauges and radar are already in their final resolution of 15 minutes for evaluation. Radar rainfall along the CML paths is computed."
   ]
  },
  {
   "cell_type": "code",
   "execution_count": 1,
   "id": "b4b2f5b7-7acf-4539-b4df-5177f81e4dba",
   "metadata": {},
   "outputs": [],
   "source": [
    "import sys\n",
    "import os\n",
    "\n",
    "# # Add submodules needed for data preparation\n",
    "sys.path.insert(0, os.path.abspath(\"./poligrain/src\"))\n",
    "sys.path.insert(0, os.path.abspath(\"./OPENSENSE_sandbox/notebooks/\"))"
   ]
  },
  {
   "cell_type": "code",
   "execution_count": 2,
   "id": "f583a92c-71da-43c8-8238-34d9ebe4ff31",
   "metadata": {},
   "outputs": [],
   "source": [
    "import xarray as xr\n",
    "import matplotlib.pyplot as plt\n",
    "from tqdm import tqdm\n",
    "import numpy as np\n",
    "import opensense_data_downloader_and_transformer as oddt\n",
    "import pandas as pd\n",
    "import poligrain as plg\n",
    "import pyproj"
   ]
  },
  {
   "cell_type": "markdown",
   "id": "3ad81ae9-0dee-452c-9270-2dd0a0f42f3a",
   "metadata": {},
   "source": [
    "#### Download OpenMRG dataset with code from [OepnSense sandbox](link) and transform to the data format standards given in [Fencl et al. 2023](https://open-research-europe.ec.europa.eu/articles/3-169)."
   ]
  },
  {
   "cell_type": "code",
   "execution_count": 3,
   "id": "67d6362e-0b53-4e1f-96bc-969599e4fa5e",
   "metadata": {},
   "outputs": [
    {
     "name": "stdout",
     "output_type": "stream",
     "text": [
      "Downloading https://zenodo.org/record/7107689/files/OpenMRG.zip\n",
      "to data/andersson_2022_OpenMRG//OpenMRG.zip\n"
     ]
    },
    {
     "data": {
      "text/plain": [
       "('data/andersson_2022_OpenMRG/OpenMRG.zip',\n",
       " <http.client.HTTPMessage at 0x774e9258d850>)"
      ]
     },
     "execution_count": 3,
     "metadata": {},
     "output_type": "execute_result"
    }
   ],
   "source": [
    "local_path=\"data/andersson_2022_OpenMRG/\"\n",
    "\n",
    "# function from OpenSense sandbox \n",
    "oddt.download_andersson_2022_OpenMRG(\n",
    "    local_path=local_path, print_output=True\n",
    ")"
   ]
  },
  {
   "cell_type": "markdown",
   "id": "105901a0-00da-448b-ba84-7887c76be4b3",
   "metadata": {},
   "source": [
    "#### Transform CML data"
   ]
  },
  {
   "cell_type": "code",
   "execution_count": 4,
   "id": "a68471ed-5f42-400d-91fd-94d36d40fc3a",
   "metadata": {},
   "outputs": [
    {
     "name": "stderr",
     "output_type": "stream",
     "text": [
      "/home/erlend/Documents/GitHub/OpenMRG2/OPENSENSE_sandbox/notebooks/opensense_data_downloader_and_transformer.py:302: FutureWarning: the `pandas.MultiIndex` object(s) passed as 'sublink' coordinate(s) or data variable(s) will no longer be implicitly promoted and wrapped into multiple indexed coordinates in the future (i.e., one coordinate for each multi-index level + one dimension coordinate). If you want to keep this behavior, you need to first wrap it explicitly using `mindex_coords = xarray.Coordinates.from_pandas_multiindex(mindex_obj, 'dim')` and pass it as coordinates, e.g., `xarray.Dataset(coords=mindex_coords)`, `dataset.assign_coords(mindex_coords)` or `dataarray.assign_coords(mindex_coords)`.\n",
      "  ds_multindex = ds.assign_coords({'sublink':df_metadata.index})\n",
      "/home/erlend/Documents/GitHub/OpenMRG2/OPENSENSE_sandbox/notebooks/opensense_data_downloader_and_transformer.py:302: FutureWarning: the `pandas.MultiIndex` object(s) passed as 'sublink' coordinate(s) or data variable(s) will no longer be implicitly promoted and wrapped into multiple indexed coordinates in the future (i.e., one coordinate for each multi-index level + one dimension coordinate). If you want to keep this behavior, you need to first wrap it explicitly using `mindex_coords = xarray.Coordinates.from_pandas_multiindex(mindex_obj, 'dim')` and pass it as coordinates, e.g., `xarray.Dataset(coords=mindex_coords)`, `dataset.assign_coords(mindex_coords)` or `dataarray.assign_coords(mindex_coords)`.\n",
      "  ds_multindex = ds.assign_coords({'sublink':df_metadata.index})\n"
     ]
    }
   ],
   "source": [
    "# Transform data in two steps due to memory constraints when transforming the full dataset\n",
    "# Transform first part of the data\n",
    "ds1 = oddt.transform_andersson_2022_OpenMRG(\n",
    "    fn=local_path + \"OpenMRG.zip\",  # navigate to your local sandbox clone\n",
    "    path_to_extract_to=local_path,\n",
    "    time_start_end=(\n",
    "        None,\n",
    "        \"2015-07-15T00:00\",\n",
    "    ),  # default (None, None) -> no timeslicing. ie. ('2015-08-31T00', None),\n",
    "    restructure_data=True,\n",
    ")\n",
    "# Transform second part of the data\n",
    "ds2 = oddt.transform_andersson_2022_OpenMRG(\n",
    "    fn=local_path + \"OpenMRG.zip\",  # navigate to your local sandbox clone\n",
    "    path_to_extract_to=local_path,\n",
    "    time_start_end=(\n",
    "        \"2015-07-15T00:00\",\n",
    "        None,\n",
    "    ),  # default (None, None) -> no timeslicing. ie. ('2015-08-31T00', None),\n",
    "    restructure_data=True,\n",
    ")\n",
    "# Resample to 1 minute temporal resolution, save memory when merging the two periods loaded above\n",
    "ds1 = ds1.resample(time=\"1min\").first(skipna=True)\n",
    "ds2 = ds2.resample(time=\"1min\").first(skipna=True)\n",
    "\n",
    "# concat and drop overlaying duplicate\n",
    "ds_cml = xr.concat([ds1, ds2], dim=\"time\").drop_duplicates(dim=\"time\")"
   ]
  },
  {
   "cell_type": "markdown",
   "id": "4f3cbe9c-7e97-4ea9-948a-f2e02b43e296",
   "metadata": {},
   "source": [
    "#### Transform rain gauge data"
   ]
  },
  {
   "cell_type": "code",
   "execution_count": 5,
   "id": "dc13f35b-31e2-405c-bbc9-2724d6c293fd",
   "metadata": {},
   "outputs": [],
   "source": [
    "df_gauges_city = pd.read_csv(\n",
    "    \"data/andersson_2022_OpenMRG/gauges/city/CityGauges-2015JJA.csv\",\n",
    "    index_col=0,\n",
    "    parse_dates=True,\n",
    ")\n",
    "\n",
    "df_gauges_city_metadata = pd.read_csv(\n",
    "    \"data/andersson_2022_OpenMRG/gauges/city/CityGauges-metadata.csv\",\n",
    "    index_col=0,\n",
    ")"
   ]
  },
  {
   "cell_type": "code",
   "execution_count": 6,
   "id": "2338d4cc-ef4f-4ddf-97da-65d91667d2c4",
   "metadata": {},
   "outputs": [],
   "source": [
    "ds_gauges_city_org = xr.Dataset(\n",
    "    data_vars=dict(\n",
    "        rainfall_amount=([\"id\", \"time\"], df_gauges_city.T),\n",
    "    ),\n",
    "    coords=dict(\n",
    "        id=df_gauges_city_metadata.index.values,\n",
    "        time=df_gauges_city.index.values,\n",
    "        longitude=([\"id\"], df_gauges_city_metadata.Longitude_DecDeg),\n",
    "        latitude=([\"id\"], df_gauges_city_metadata.Latitude_DecDeg),\n",
    "        location=([\"id\"], df_gauges_city_metadata.Location),\n",
    "        type=([\"id\"], df_gauges_city_metadata.Type),\n",
    "        quantization=([\"id\"], df_gauges_city_metadata[\"Resolution (mm)\"]),\n",
    "    ),\n",
    ")\n",
    "ds_gauges_city = ds_gauges_city_org.resample(time=\"15min\", label=\"right\", closed=\"right\").sum()"
   ]
  },
  {
   "cell_type": "code",
   "execution_count": 7,
   "id": "38a3dbe2-e123-410a-a340-961d202cbfc9",
   "metadata": {},
   "outputs": [],
   "source": [
    "df_gauge_smhi = pd.read_csv(\n",
    "    \"data/andersson_2022_OpenMRG/gauges/smhi/GbgA-71420-2015JJA.csv\",\n",
    "    index_col=0,\n",
    "    parse_dates=True,\n",
    ")\n",
    "\n",
    "\n",
    "ds_gauges_smhi = xr.Dataset(\n",
    "    data_vars=dict(\n",
    "        rainfall_amount=([\"id\", \"time\"], [df_gauge_smhi.Pvol_mm.values]),\n",
    "    ),\n",
    "    coords=dict(\n",
    "        id=[\"SMHI\"],\n",
    "        time=df_gauge_smhi.index.values,\n",
    "        longitude=([\"id\"], [11.9924]),\n",
    "        latitude=([\"id\"], [57.7156]),\n",
    "        location=([\"id\"], [\"Goeteburg A\"]),\n",
    "        type=([\"id\"], [\"15 min rainfall sum\"]),\n",
    "        quantization=([\"id\"], [0.1]),\n",
    "    ),\n",
    ")"
   ]
  },
  {
   "cell_type": "code",
   "execution_count": 8,
   "id": "2364ab26-c472-4b13-9e2f-f3ef2ea17b3a",
   "metadata": {},
   "outputs": [],
   "source": [
    "ds_gauges = xr.concat([ds_gauges_city, ds_gauges_smhi], dim=\"id\")\n",
    "ds_gauges = ds_gauges.sel(time=slice(ds_cml.time.min(),ds_cml.time.max()))"
   ]
  },
  {
   "cell_type": "code",
   "execution_count": 9,
   "id": "5e0c1800-cb40-4a3d-a1c2-5965cc60a085",
   "metadata": {},
   "outputs": [],
   "source": [
    "# ds_gauges=ds_gauges.reindex(time=pd.date_range(\n",
    "#     \"2015-06-01T00:00:00\",\n",
    "#     \"2015-08-31T23:45:00\",freq=\"15min\"), fill_value=np.nan)\n",
    "\n",
    "ds_gauges = ds_gauges.rename({\"rainfall_amount\": \"R\"})"
   ]
  },
  {
   "cell_type": "code",
   "execution_count": 10,
   "id": "34c122fc",
   "metadata": {},
   "outputs": [],
   "source": [
    "ds_gauges.to_netcdf('data/andersson_2022_OpenMRG/gauges/openmrg_gauges.nc')"
   ]
  },
  {
   "cell_type": "markdown",
   "id": "a16a0196-a834-408f-94e0-c62f753f1845",
   "metadata": {},
   "source": [
    "#### Transform radar data"
   ]
  },
  {
   "cell_type": "code",
   "execution_count": 11,
   "id": "ee7dd2ea-2111-41bc-9ea2-a325bd67f886",
   "metadata": {},
   "outputs": [],
   "source": [
    "# read radar data and convert to Opensense naming conventions\n",
    "ds_rad = (\n",
    "    xr.open_dataset(local_path + \"radar/radar.nc\")\n",
    "    .rename( \n",
    "        {\"lat\": \"latitudes\", \"lon\": \"longitudes\"}\n",
    "    )\n",
    "    .transpose(\"time\", \"y\", \"x\")\n",
    ")\n",
    "\n",
    "# Turn into coordinates and fix naming error\n",
    "ds_rad.coords['latitudes'] = ds_rad.latitudes\n",
    "ds_rad.coords['longitudes'] = ds_rad.longitudes\n",
    "ds_rad = ds_rad.rename({\"longitudes\": \"lon\", \"latitudes\": \"lat\"})"
   ]
  },
  {
   "cell_type": "code",
   "execution_count": 12,
   "id": "d5ef8650-b677-4b04-a713-9d27c524e702",
   "metadata": {},
   "outputs": [],
   "source": [
    "# Apply masrhal palmer to get rainfall rates\n",
    "ds_rad[\"rainfall_amount\"] = (10 ** (ds_rad.data / 10) / 200) ** (5 / 8)"
   ]
  },
  {
   "cell_type": "code",
   "execution_count": 13,
   "id": "2084f10d-ecbd-4d3a-b95a-addfb3b1ee72",
   "metadata": {},
   "outputs": [],
   "source": [
    "# flip along y axis to work in the grid intersection function\n",
    "ds_rad[\"latitudes\"] = ((\"y\", \"x\"), np.flip(ds_rad.lat.data, axis=0))\n",
    "ds_rad[\"rainfall_amount\"] = (\n",
    "    (\"time\", \"y\", \"x\"),\n",
    "    np.flip(ds_rad.rainfall_amount.data, axis=1),\n",
    ")\n",
    "\n",
    "# convert to sum 15 min\n",
    "ds_rad_15min = ds_rad[['crs', 'lat', 'lon', 'rainfall_amount']].resample(time='15min', label='right', closed='right').sum()*5/60\n",
    "ds_rad_15min.rainfall_amount.attrs[\"units\"] = \"sum 15min\""
   ]
  },
  {
   "cell_type": "code",
   "execution_count": 14,
   "id": "8184407d-fcb8-4809-b5f0-0e6ad0d68210",
   "metadata": {},
   "outputs": [],
   "source": [
    "# saving radar\n",
    "ds_rad_15min.to_netcdf('data/andersson_2022_OpenMRG/radar/openmrg_rad.nc') "
   ]
  },
  {
   "cell_type": "markdown",
   "id": "06829516-51d1-4f6e-ac02-a28e066128e9",
   "metadata": {},
   "source": [
    "#### Radar rainfall along CML"
   ]
  },
  {
   "cell_type": "code",
   "execution_count": 15,
   "id": "adb6a57a-181e-4e6d-9556-06fbb8d37bd2",
   "metadata": {},
   "outputs": [],
   "source": [
    "da_intersect_weights = plg.spatial.calc_sparse_intersect_weights_for_several_cmls(\n",
    "    x1_line=ds_cml.site_0_lon.values,\n",
    "    y1_line=ds_cml.site_0_lat.values,\n",
    "    x2_line=ds_cml.site_1_lon.values,\n",
    "    y2_line=ds_cml.site_1_lat.values,\n",
    "    cml_id=ds_cml.cml_id.values,\n",
    "    x_grid=ds_rad_15min.lon.values,\n",
    "    y_grid=ds_rad_15min.lat.values,\n",
    "    grid_point_location='center',\n",
    ")\n",
    "ds_cml['radar_along_cml'] = plg.spatial.get_grid_time_series_at_intersections(\n",
    "    grid_data=ds_rad_15min.rainfall_amount,\n",
    "    intersect_weights=da_intersect_weights,\n",
    ").resample(time = '1min').bfill()/15"
   ]
  },
  {
   "cell_type": "markdown",
   "id": "0f994d28-239d-4a60-84ec-a239e9ee7835",
   "metadata": {},
   "source": [
    "#### Visualize data"
   ]
  },
  {
   "cell_type": "code",
   "execution_count": 16,
   "id": "25d15b7a-dbb9-48c6-ace7-f2fa3cc5bd42",
   "metadata": {},
   "outputs": [
    {
     "data": {
      "image/png": "[encoded data removed]",
      "text/plain": [
       "<Figure size 640x480 with 1 Axes>"
      ]
     },
     "metadata": {},
     "output_type": "display_data"
    }
   ],
   "source": [
    "# radar rainfall along one cml path\n",
    "(ds_cml.radar_along_cml*60).sel(cml_id=10001).plot(label='radar along CML rainfall (mm/h)')\n",
    "ds_cml.rsl.sel(cml_id=10001,sublink_id='sublink_1').plot(label='received signal level (dB)')\n",
    "plt.legend()\n",
    "plt.title('Radar rainfall and RSL along one cml path');"
   ]
  },
  {
   "cell_type": "code",
   "execution_count": 17,
   "id": "7147f7cc-f20a-4a4e-aa85-70db63981461",
   "metadata": {},
   "outputs": [
    {
     "data": {
      "text/plain": [
       "(array([0.        , 0.02416667, 0.        , 0.        , 0.        ,\n",
       "        0.        , 0.        , 0.        , 0.        , 0.        ,\n",
       "        0.        , 0.02416667, 0.02416667, 0.02416667, 0.        ,\n",
       "        0.02416667, 0.        , 0.02416667, 0.02416667, 0.        ,\n",
       "        0.        , 0.        , 0.04833333, 0.02416667, 0.        ,\n",
       "        0.        , 0.        , 0.        , 0.        ]),\n",
       " array([180.        , 184.13793103, 188.27586207, 192.4137931 ,\n",
       "        196.55172414, 200.68965517, 204.82758621, 208.96551724,\n",
       "        213.10344828, 217.24137931, 221.37931034, 225.51724138,\n",
       "        229.65517241, 233.79310345, 237.93103448, 242.06896552,\n",
       "        246.20689655, 250.34482759, 254.48275862, 258.62068966,\n",
       "        262.75862069, 266.89655172, 271.03448276, 275.17241379,\n",
       "        279.31034483, 283.44827586, 287.5862069 , 291.72413793,\n",
       "        295.86206897, 300.        ]),\n",
       " <BarContainer object of 29 artists>)"
      ]
     },
     "execution_count": 17,
     "metadata": {},
     "output_type": "execute_result"
    },
    {
     "data": {
      "image/png": "[encoded data removed]",
      "text/plain": [
       "<Figure size 640x480 with 1 Axes>"
      ]
     },
     "metadata": {},
     "output_type": "display_data"
    }
   ],
   "source": [
    "(ds_cml.radar_along_cml.sum(dim='time')).plot.hist(bins=np.linspace(180,300,30), density=True)\n",
    "ds_gauges.R.sum(dim='time').plot.hist(bins=np.linspace(180,300,30), density=True)"
   ]
  },
  {
   "cell_type": "code",
   "execution_count": 18,
   "id": "1265054c-dc73-4bf1-a29e-72fe17381835",
   "metadata": {},
   "outputs": [],
   "source": [
    "# save CML data\n",
    "ds_cml.to_netcdf('data/andersson_2022_OpenMRG/openMRG_cml.nc')"
   ]
  }
 ],
 "metadata": {
  "kernelspec": {
   "display_name": "Python 3 (ipykernel)",
   "language": "python",
   "name": "python3"
  },
  "language_info": {
   "codemirror_mode": {
    "name": "ipython",
    "version": 3
   },
   "file_extension": ".py",
   "mimetype": "text/x-python",
   "name": "python",
   "nbconvert_exporter": "python",
   "pygments_lexer": "ipython3",
   "version": "3.12.11"
  }
 },
 "nbformat": 4,
 "nbformat_minor": 5
}
